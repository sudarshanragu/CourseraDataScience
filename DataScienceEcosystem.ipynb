{
 "cells": [
  {
   "cell_type": "markdown",
   "id": "cbcc6ab7-4e8e-4957-9fe9-ce6b0efd1d83",
   "metadata": {
    "tags": []
   },
   "source": [
    "# Data Science Tools and Ecosystem"
   ]
  },
  {
   "cell_type": "markdown",
   "id": "51a571d9-75b3-4b48-a309-8bb9e663f2bb",
   "metadata": {},
   "source": [
    "In this notebook, Data Science Tools and Ecosystem are summarized."
   ]
  },
  {
   "cell_type": "markdown",
   "id": "b8fd026c-bdbb-44ba-8f77-734826e761c3",
   "metadata": {},
   "source": [
    "**Objectives:**\n",
    "* List popular Data Science languages\n",
    "* List commonly used Data Science libraries\n",
    "* List examples of Open Source Data Science Tools\n",
    "* Demonstrate how to perform simple arithmetic expressions in Python"
   ]
  },
  {
   "cell_type": "markdown",
   "id": "5aeafcd8-7772-45e4-9d2b-820666857294",
   "metadata": {},
   "source": [
    "Some of the popular languages that Data Scientists use are:\n",
    "1. Python\n",
    "2. R\n",
    "3. SQL\n",
    "4. Scala\n",
    "5. Java\n",
    "6. C++"
   ]
  },
  {
   "cell_type": "markdown",
   "id": "70b94f16-1f9e-479c-a94d-07d4a44f4092",
   "metadata": {
    "tags": []
   },
   "source": [
    "Some of the commonly used data libraries by Data Scientists include:\n",
    "1. Numpy\n",
    "2. Scipy\n",
    "3. Pandas\n",
    "4. Seaborn\n",
    "5. Scikit\n",
    "6. Matplotlib"
   ]
  },
  {
   "cell_type": "markdown",
   "id": "8140e403-c365-46d4-97da-66c4427f5c64",
   "metadata": {},
   "source": [
    "|Data Science Tools|\n",
    "|------------------|\n",
    "|MySQL|\n",
    "|Apache Airflow|\n",
    "|GitHub|"
   ]
  },
  {
   "cell_type": "markdown",
   "id": "6419cc21-e94b-48cb-8f0a-6270a065d7b2",
   "metadata": {},
   "source": [
    "### Below are a few examples of evaluating arithmetic expressions in Python."
   ]
  },
  {
   "cell_type": "code",
   "execution_count": 5,
   "id": "dc59dd80-eebc-4431-8176-ebc3108ea92c",
   "metadata": {
    "tags": []
   },
   "outputs": [
    {
     "data": {
      "text/plain": [
       "17"
      ]
     },
     "execution_count": 5,
     "metadata": {},
     "output_type": "execute_result"
    }
   ],
   "source": [
    "# This is a simple arithmetic expression to multiply and then add integers. \n",
    "(3*4)+5"
   ]
  },
  {
   "cell_type": "code",
   "execution_count": 7,
   "id": "7e25b341-7f57-4079-bbf6-271737c458f5",
   "metadata": {
    "tags": []
   },
   "outputs": [
    {
     "data": {
      "text/plain": [
       "3.3333333333333335"
      ]
     },
     "execution_count": 7,
     "metadata": {},
     "output_type": "execute_result"
    }
   ],
   "source": [
    "# This expression will convert 200 minutes to hours by dividing by 60. \n",
    "200/60"
   ]
  },
  {
   "cell_type": "markdown",
   "id": "daf75c36-2982-4fe1-a329-0a6f25101099",
   "metadata": {},
   "source": [
    "## Author\n",
    "Sudarshan Ragunathan"
   ]
  }
 ],
 "metadata": {
  "kernelspec": {
   "display_name": "Python",
   "language": "python",
   "name": "conda-env-python-py"
  },
  "language_info": {
   "codemirror_mode": {
    "name": "ipython",
    "version": 3
   },
   "file_extension": ".py",
   "mimetype": "text/x-python",
   "name": "python",
   "nbconvert_exporter": "python",
   "pygments_lexer": "ipython3",
   "version": "3.7.12"
  }
 },
 "nbformat": 4,
 "nbformat_minor": 5
}
